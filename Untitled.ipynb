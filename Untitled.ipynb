{
 "cells": [
  {
   "cell_type": "code",
   "execution_count": 13,
   "id": "6c7412aa-aa60-42af-895f-883969b0297a",
   "metadata": {},
   "outputs": [],
   "source": [
    "import warnings\n",
    "\n",
    "from prediction.spark import spark\n",
    "spark.conf.set('spark.sql.repl.eagerEval.enabled', True)\n",
    "warnings.filterwarnings(\"ignore\")"
   ]
  },
  {
   "cell_type": "code",
   "execution_count": 14,
   "id": "65e754d2-c91f-4aa1-bcdb-52d635a551b3",
   "metadata": {},
   "outputs": [],
   "source": [
    "orders = spark.read.parquet(\"data/orders.parquet\")\n"
   ]
  },
  {
   "cell_type": "code",
   "execution_count": 20,
   "id": "d9d17ae4-6489-49b8-847c-5d29332e3dc6",
   "metadata": {},
   "outputs": [
    {
     "name": "stdout",
     "output_type": "stream",
     "text": [
      "root\n",
      " |-- order_id: string (nullable = true)\n",
      " |-- user_id: string (nullable = true)\n",
      " |-- status: string (nullable = true)\n",
      " |-- gender: string (nullable = true)\n",
      " |-- created_at: string (nullable = true)\n",
      " |-- returned_at: string (nullable = true)\n",
      " |-- shipped_at: string (nullable = true)\n",
      " |-- delivered_at: string (nullable = true)\n",
      " |-- num_of_item: string (nullable = true)\n",
      "\n"
     ]
    }
   ],
   "source": [
    "\n",
    "orders.printSchema()"
   ]
  },
  {
   "cell_type": "code",
   "execution_count": null,
   "id": "0110d301-a5a7-4d80-97c9-1ddbecdd0377",
   "metadata": {},
   "outputs": [],
   "source": []
  }
 ],
 "metadata": {
  "kernelspec": {
   "display_name": "pyspark_venv",
   "language": "python",
   "name": "pyspark_venv"
  },
  "language_info": {
   "codemirror_mode": {
    "name": "ipython",
    "version": 3
   },
   "file_extension": ".py",
   "mimetype": "text/x-python",
   "name": "python",
   "nbconvert_exporter": "python",
   "pygments_lexer": "ipython3",
   "version": "3.12.4"
  }
 },
 "nbformat": 4,
 "nbformat_minor": 5
}
