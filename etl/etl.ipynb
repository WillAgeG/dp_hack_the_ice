{
 "cells": [
  {
   "cell_type": "code",
   "execution_count": 14,
   "id": "6c1fc8ad-49cd-4f9c-938f-5aedf4d13ef5",
   "metadata": {},
   "outputs": [],
   "source": [
    "import kagglehub\n",
    "import os\n",
    "import glob\n",
    "import logging\n",
    "\n",
    "from spark import spark\n",
    "\n",
    "from pyspark.sql.types import StructType, StructField, StringType, DoubleType, IntegerType, TimestampType"
   ]
  },
  {
   "cell_type": "markdown",
   "id": "a2d913bf-4271-4338-a2de-543ea0c26917",
   "metadata": {},
   "source": [
    "# Extract"
   ]
  },
  {
   "cell_type": "code",
   "execution_count": 22,
   "id": "9828bdc2-421f-4607-89db-e4ee07a19340",
   "metadata": {},
   "outputs": [
    {
     "name": "stderr",
     "output_type": "stream",
     "text": [
      "                                                                                \r"
     ]
    }
   ],
   "source": [
    "path = kagglehub.dataset_download(\"mustafakeser4/looker-ecommerce-bigquery-dataset\")\n",
    "csv_files = glob.glob(os.path.join(path, '*.csv'))\n",
    "\n",
    "schemas = {\n",
    "    \"products\": StructType([\n",
    "        StructField(\"id\", StringType(), True),\n",
    "        StructField(\"cost\", DoubleType(), True),\n",
    "        StructField(\"category\", StringType(), True),\n",
    "        StructField(\"name\", StringType(), True),\n",
    "        StructField(\"brand\", StringType(), True),\n",
    "        StructField(\"retail_price\", DoubleType(), True),\n",
    "        StructField(\"department\", StringType(), True),\n",
    "        StructField(\"sku\", StringType(), True),\n",
    "        StructField(\"distribution_center_id\", IntegerType(), True)\n",
    "    ]),\n",
    "\n",
    "    \"orders\": StructType([\n",
    "        StructField(\"order_id\", StringType(), True),\n",
    "        StructField(\"user_id\", StringType(), True),\n",
    "        StructField(\"status\", StringType(), True),\n",
    "        StructField(\"gender\", StringType(), True),\n",
    "        StructField(\"created_at\", TimestampType(), True),\n",
    "        StructField(\"returned_at\", TimestampType(), True),\n",
    "        StructField(\"shipped_at\", TimestampType(), True),\n",
    "        StructField(\"delivered_at\", TimestampType(), True),\n",
    "        StructField(\"num_of_item\", IntegerType(), True)\n",
    "    ]),\n",
    "\n",
    "    \"inventory_items\": StructType([\n",
    "        StructField(\"id\", StringType(), True),\n",
    "        StructField(\"product_id\", StringType(), True),\n",
    "        StructField(\"created_at\", TimestampType(), True),\n",
    "        StructField(\"sold_at\", TimestampType(), True),\n",
    "        StructField(\"cost\", DoubleType(), True),\n",
    "        StructField(\"product_category\", StringType(), True),\n",
    "        StructField(\"product_name\", StringType(), True),\n",
    "        StructField(\"product_brand\", StringType(), True),\n",
    "        StructField(\"product_retail_price\", DoubleType(), True),\n",
    "        StructField(\"product_department\", StringType(), True),\n",
    "        StructField(\"product_sku\", StringType(), True),\n",
    "        StructField(\"product_distribution_center_id\", IntegerType(), True)\n",
    "    ]),\n",
    "\n",
    "    \"users\": StructType([\n",
    "        StructField(\"id\", StringType(), True),\n",
    "        StructField(\"first_name\", StringType(), True),\n",
    "        StructField(\"last_name\", StringType(), True),\n",
    "        StructField(\"email\", StringType(), True),\n",
    "        StructField(\"age\", IntegerType(), True),\n",
    "        StructField(\"gender\", StringType(), True),\n",
    "        StructField(\"state\", StringType(), True),\n",
    "        StructField(\"street_address\", StringType(), True),\n",
    "        StructField(\"postal_code\", StringType(), True),\n",
    "        StructField(\"city\", StringType(), True),\n",
    "        StructField(\"country\", StringType(), True),\n",
    "        StructField(\"latitude\", DoubleType(), True),\n",
    "        StructField(\"longitude\", DoubleType(), True),\n",
    "        StructField(\"traffic_source\", StringType(), True),\n",
    "        StructField(\"created_at\", TimestampType(), True)\n",
    "    ]),\n",
    "\n",
    "    \"distribution_centers\": StructType([\n",
    "        StructField(\"id\", StringType(), True),\n",
    "        StructField(\"name\", StringType(), True),\n",
    "        StructField(\"latitude\", DoubleType(), True),\n",
    "        StructField(\"longitude\", DoubleType(), True)\n",
    "    ]),\n",
    "\n",
    "    \"events\": StructType([\n",
    "        StructField(\"id\", StringType(), True),\n",
    "        StructField(\"user_id\", StringType(), True),\n",
    "        StructField(\"sequence_number\", IntegerType(), True),\n",
    "        StructField(\"session_id\", StringType(), True),\n",
    "        StructField(\"created_at\", TimestampType(), True),\n",
    "        StructField(\"ip_address\", StringType(), True),\n",
    "        StructField(\"city\", StringType(), True),\n",
    "        StructField(\"state\", StringType(), True),\n",
    "        StructField(\"postal_code\", StringType(), True),\n",
    "        StructField(\"browser\", StringType(), True),\n",
    "        StructField(\"traffic_source\", StringType(), True),\n",
    "        StructField(\"uri\", StringType(), True),\n",
    "        StructField(\"event_type\", StringType(), True)\n",
    "    ]),\n",
    "\n",
    "    \"order_items\": StructType([\n",
    "        StructField(\"id\", StringType(), True),\n",
    "        StructField(\"order_id\", StringType(), True),\n",
    "        StructField(\"user_id\", StringType(), True),\n",
    "        StructField(\"product_id\", StringType(), True),\n",
    "        StructField(\"inventory_item_id\", StringType(), True),\n",
    "        StructField(\"status\", StringType(), True),\n",
    "        StructField(\"created_at\", TimestampType(), True),\n",
    "        StructField(\"shipped_at\", TimestampType(), True),\n",
    "        StructField(\"delivered_at\", TimestampType(), True),\n",
    "        StructField(\"returned_at\", TimestampType(), True),\n",
    "        StructField(\"sale_price\", DoubleType(), True)\n",
    "    ])\n",
    "}\n",
    "\n",
    "\n",
    "\n",
    "\n",
    "for file in csv_files:\n",
    "    file_name = os.path.basename(file).split('.')[0]\n",
    "    df = spark.read.option(\"header\", \"true\").csv(file, schema=schemas[file_name])\n",
    "\n",
    "    file_parquet = f\"{file_name}.parquet\"\n",
    "    df.write.mode(\"overwrite\").parquet(f\"../data/{file_parquet}\")"
   ]
  },
  {
   "cell_type": "markdown",
   "id": "c5ba01c5-c812-4a6a-9c1d-1b5f139aad0a",
   "metadata": {},
   "source": [
    "# Transform (aggregation)"
   ]
  },
  {
   "cell_type": "code",
   "execution_count": 29,
   "id": "7225dd2e-2c1c-4dd2-ba42-73e72327c9e6",
   "metadata": {},
   "outputs": [
    {
     "name": "stdout",
     "output_type": "stream",
     "text": [
      "order_items\n",
      "+------+--------+-------+----------+-----------------+---------+-------------------+-------------------+-------------------+-----------+------------------+\n",
      "|    id|order_id|user_id|product_id|inventory_item_id|   status|         created_at|         shipped_at|       delivered_at|returned_at|        sale_price|\n",
      "+------+--------+-------+----------+-----------------+---------+-------------------+-------------------+-------------------+-----------+------------------+\n",
      "|152013|  104663|  83582|     14235|           410368|Cancelled|2023-05-07 15:08:40|               NULL|               NULL|       NULL|0.0199999995529651|\n",
      "| 40993|   28204|  22551|     14235|           110590| Complete|2023-03-14 12:47:21|2023-03-16 07:57:00|2023-03-18 10:08:00|       NULL|0.0199999995529651|\n",
      "+------+--------+-------+----------+-----------------+---------+-------------------+-------------------+-------------------+-----------+------------------+\n",
      "only showing top 2 rows\n",
      "\n",
      "root\n",
      " |-- id: string (nullable = true)\n",
      " |-- order_id: string (nullable = true)\n",
      " |-- user_id: string (nullable = true)\n",
      " |-- product_id: string (nullable = true)\n",
      " |-- inventory_item_id: string (nullable = true)\n",
      " |-- status: string (nullable = true)\n",
      " |-- created_at: timestamp (nullable = true)\n",
      " |-- shipped_at: timestamp (nullable = true)\n",
      " |-- delivered_at: timestamp (nullable = true)\n",
      " |-- returned_at: timestamp (nullable = true)\n",
      " |-- sale_price: double (nullable = true)\n",
      "\n",
      "\n"
     ]
    }
   ],
   "source": [
    "file_name = 'order_items'\n",
    "file_parquet = f\"{file_name}.parquet\"\n",
    "df = spark.read.option(\"header\", \"true\").parquet(f\"../data/{file_parquet}\", schema=schemas[file_name])\n",
    "print(file_name)\n",
    "df.show(2)\n",
    "df.printSchema()\n",
    "print()"
   ]
  },
  {
   "cell_type": "code",
   "execution_count": 30,
   "id": "6726a616-c045-4cd2-a94c-3d9e7cd14959",
   "metadata": {},
   "outputs": [
    {
     "name": "stdout",
     "output_type": "stream",
     "text": [
      "orders\n",
      "+--------+-------+---------+------+-------------------+-----------+----------+------------+-----------+\n",
      "|order_id|user_id|   status|gender|         created_at|returned_at|shipped_at|delivered_at|num_of_item|\n",
      "+--------+-------+---------+------+-------------------+-----------+----------+------------+-----------+\n",
      "|       8|      5|Cancelled|     F|2022-10-20 19:03:00|       NULL|      NULL|        NULL|          3|\n",
      "|      60|     44|Cancelled|     F|2023-01-20 11:12:00|       NULL|      NULL|        NULL|          1|\n",
      "+--------+-------+---------+------+-------------------+-----------+----------+------------+-----------+\n",
      "only showing top 2 rows\n",
      "\n",
      "root\n",
      " |-- order_id: string (nullable = true)\n",
      " |-- user_id: string (nullable = true)\n",
      " |-- status: string (nullable = true)\n",
      " |-- gender: string (nullable = true)\n",
      " |-- created_at: timestamp (nullable = true)\n",
      " |-- returned_at: timestamp (nullable = true)\n",
      " |-- shipped_at: timestamp (nullable = true)\n",
      " |-- delivered_at: timestamp (nullable = true)\n",
      " |-- num_of_item: integer (nullable = true)\n",
      "\n",
      "\n"
     ]
    }
   ],
   "source": [
    "file_name = 'orders'\n",
    "file_parquet = f\"{file_name}.parquet\"\n",
    "df = spark.read.option(\"header\", \"true\").parquet(f\"../data/{file_parquet}\", schema=schemas[file_name])\n",
    "print(file_name)\n",
    "df.show(2)\n",
    "df.printSchema()\n",
    "print()"
   ]
  },
  {
   "cell_type": "code",
   "execution_count": null,
   "id": "9ee88d40-c550-45d5-bf29-8ee9d9e1010e",
   "metadata": {},
   "outputs": [],
   "source": []
  }
 ],
 "metadata": {
  "kernelspec": {
   "display_name": "pyspark_venv",
   "language": "python",
   "name": "pyspark_venv"
  },
  "language_info": {
   "codemirror_mode": {
    "name": "ipython",
    "version": 3
   },
   "file_extension": ".py",
   "mimetype": "text/x-python",
   "name": "python",
   "nbconvert_exporter": "python",
   "pygments_lexer": "ipython3",
   "version": "3.12.4"
  }
 },
 "nbformat": 4,
 "nbformat_minor": 5
}
